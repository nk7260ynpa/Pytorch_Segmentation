{
 "cells": [
  {
   "cell_type": "code",
   "execution_count": null,
   "id": "514564d9-14dc-4d74-9dce-b2d5baaaa5a3",
   "metadata": {},
   "outputs": [],
   "source": [
    "import os \n",
    "import datetime\n",
    "import numpy as np \n",
    "import pandas as pd\n",
    "import matplotlib.pyplot as plt\n",
    "import torch\n",
    "import torch.nn as nn\n",
    "import torch.nn.functional as F\n",
    "import torchvision as trv\n",
    "from PIL import Image\n",
    "import random\n",
    "import utils\n",
    "import logging"
   ]
  },
  {
   "cell_type": "code",
   "execution_count": null,
   "id": "f29fcf2a-1d34-4feb-9f87-bab2bf9c961f",
   "metadata": {},
   "outputs": [],
   "source": [
    "VOC_DIR = \"dataset/VOCdevkit/VOC2012/\"\n",
    "BATCH_SIZE = 16\n",
    "NUM_CLASSES = 21\n",
    "NUM_EPOCHS = 30\n",
    "Learning_Rate = 0.001\n",
    "Weight_Decay = 1e-3"
   ]
  },
  {
   "cell_type": "code",
   "execution_count": null,
   "id": "e2ecac2a-9269-4db8-856b-b2e88d42c974",
   "metadata": {},
   "outputs": [],
   "source": [
    "log_name = datetime.datetime.strftime(datetime.datetime.now(), \"%m%d%H%M\") + \".log\"\n",
    "log_path = os.path.join(\"logs\", log_name)\n",
    "logging.basicConfig(level=logging.DEBUG, filename=log_path, filemode='w', format=\"\")\n",
    "weights_name = datetime.datetime.strftime(datetime.datetime.now(), \"%m%d%H%M\") + \".pth\"\n",
    "save_path = os.path.join(\"weights\", weights_name)\n",
    "device = torch.device(\"cuda\" if torch.cuda.is_available else \"cpu\")\n",
    "\n",
    "Train_dataset = utils.VOC_dataset(VOC_DIR)\n",
    "Valid_dataset = utils.VOC_dataset(VOC_DIR, train=False)\n",
    "\n",
    "Train_loader = torch.utils.data.DataLoader(Train_dataset, BATCH_SIZE, shuffle=True, \n",
    "                                           drop_last=True, num_workers=4)\n",
    "Valid_loader = torch.utils.data.DataLoader(Valid_dataset, BATCH_SIZE, shuffle=False, \n",
    "                                           drop_last=True, num_workers=4)\n",
    "\n",
    "model = utils.ResNet18_FCN(NUM_CLASSES)\n",
    "\n",
    "def loss_fun(inputs, targets):\n",
    "    return F.cross_entropy(inputs, targets, reduction=\"none\").mean(1).mean(1)\n",
    "\n",
    "optimizer = torch.optim.SGD(model.parameters(), lr=Learning_Rate, weight_decay=Weight_Decay)\n",
    "\n",
    "model.to(device);\n",
    "\n",
    "for epoch in range(NUM_EPOCHS):\n",
    "    \n",
    "    print(f\"Epoch: {epoch+1} \")\n",
    "    logging.info(f\"Epoch: {epoch+1} \")\n",
    "    \n",
    "    model.train()\n",
    "    train_loss = 0.0\n",
    "    sample_num = 0.0\n",
    "    for inputs, labels in Train_loader:\n",
    "        inputs = inputs.to(device)\n",
    "        labels = labels.to(device)\n",
    "        optimizer.zero_grad()\n",
    "        outputs = model(inputs)\n",
    "        _, preds = torch.max(outputs, 1)\n",
    "        loss = loss_fun(outputs, labels).sum()\n",
    "        loss.backward()\n",
    "        optimizer.step()\n",
    "        train_loss += loss.item()\n",
    "        sample_num += labels.shape[0]\n",
    "\n",
    "    train_loss = train_loss / sample_num\n",
    "    print(f'train Loss: {train_loss:.4f}')\n",
    "    logging.info(f'train Loss: {train_loss:.4f}')\n",
    "    \n",
    "    model.eval()\n",
    "    valid_loss = 0.0\n",
    "    sample_num = 0.0\n",
    "    for inputs, labels in Valid_loader:\n",
    "        inputs = inputs.to(device)\n",
    "        labels = labels.to(device)\n",
    "        \n",
    "        with torch.no_grad():\n",
    "            outputs = model(inputs)\n",
    "            _, preds = torch.max(outputs, 1)\n",
    "            loss = loss_fun(outputs, labels).sum()\n",
    "            valid_loss += loss.item()\n",
    "            sample_num += labels.shape[0]\n",
    "\n",
    "    valid_loss = valid_loss / sample_num\n",
    "    print(f'valid Loss: {valid_loss:.4f}')\n",
    "    logging.info(f'valid Loss: {valid_loss:.4f}')\n",
    "        \n",
    "\n",
    "model.to(\"cpu\");\n",
    "\n",
    "torch.save(model.state_dict(), save_path)"
   ]
  },
  {
   "cell_type": "code",
   "execution_count": null,
   "id": "68ffa99f-3fa9-4d9a-8d7d-d4e1e06465a2",
   "metadata": {},
   "outputs": [],
   "source": []
  },
  {
   "cell_type": "code",
   "execution_count": null,
   "id": "e56d6cac-6f40-4ee1-a054-5291b36d24cd",
   "metadata": {},
   "outputs": [],
   "source": []
  },
  {
   "cell_type": "code",
   "execution_count": null,
   "id": "53845fa0-4139-4a28-aeb9-c1a79ac76e40",
   "metadata": {},
   "outputs": [],
   "source": []
  },
  {
   "cell_type": "code",
   "execution_count": null,
   "id": "77da1e0a-feb7-4d8f-9f2a-608a9b3c6f91",
   "metadata": {},
   "outputs": [],
   "source": []
  },
  {
   "cell_type": "code",
   "execution_count": null,
   "id": "70edb322-89e1-40f6-b883-42691f898eae",
   "metadata": {},
   "outputs": [],
   "source": []
  },
  {
   "cell_type": "code",
   "execution_count": null,
   "id": "3a57cd15-d231-46cd-9ba6-137cbb79c632",
   "metadata": {},
   "outputs": [],
   "source": []
  },
  {
   "cell_type": "code",
   "execution_count": null,
   "id": "440b4fcb-ab84-43aa-a1dc-9a4d385780e5",
   "metadata": {},
   "outputs": [],
   "source": [
    "def predict(img):\n",
    "    X = Test_loader.dataset.normalize_image(img).unsqueeze(0)\n",
    "    pred = model(X.to(device)).argmax(dim=1)\n",
    "    return pred.reshape(pred.shape[1], pred.shape[2])"
   ]
  },
  {
   "cell_type": "code",
   "execution_count": null,
   "id": "23d6004d-2044-433b-a2eb-a3222c34cfb0",
   "metadata": {},
   "outputs": [],
   "source": [
    "def label2image(pred):\n",
    "    colormap = torch.tensor(VOC_COLORMAP, device=device) \n",
    "    X = pred.long() \n",
    "    return colormap[X, :]"
   ]
  },
  {
   "cell_type": "code",
   "execution_count": null,
   "id": "cd44d1a5-41c0-4cad-9399-8ec7f61e8d26",
   "metadata": {},
   "outputs": [],
   "source": [
    "inputs, labels = next(iter(Valid_loader))"
   ]
  },
  {
   "cell_type": "code",
   "execution_count": null,
   "id": "38b95b3b-d564-4918-970e-8594271068c7",
   "metadata": {},
   "outputs": [],
   "source": [
    "output = model(inputs).argmax(dim=1)[0]"
   ]
  },
  {
   "cell_type": "code",
   "execution_count": null,
   "id": "a1bdc678-fe83-4f6d-8790-41f52b44631d",
   "metadata": {},
   "outputs": [],
   "source": [
    "VOC_COLORMAP = [[0, 0, 0], [128, 0, 0], [0, 128, 0], [128, 128, 0],\n",
    "                [0, 0, 128], [128, 0, 128], [0, 128, 128], [128, 128, 128],\n",
    "                [64, 0, 0], [192, 0, 0], [64, 128, 0], [192, 128, 0],\n",
    "                [64, 0, 128], [192, 0, 128], [64, 128, 128], [192, 128, 128],\n",
    "                [0, 64, 0], [128, 64, 0], [0, 192, 0], [128, 192, 0], [0, 64, 128]]"
   ]
  },
  {
   "cell_type": "code",
   "execution_count": null,
   "id": "d44adf94-177b-446f-9cb6-0c2d3532d8c8",
   "metadata": {},
   "outputs": [],
   "source": [
    "torch.unique(labels[0])"
   ]
  },
  {
   "cell_type": "code",
   "execution_count": null,
   "id": "efad8c51-f523-4fe0-b3e9-31e61b294d0e",
   "metadata": {},
   "outputs": [],
   "source": [
    "plt.imshow(label2image(output).to(\"cpu\").numpy())"
   ]
  },
  {
   "cell_type": "code",
   "execution_count": null,
   "id": "9879d348-28c6-4a37-9223-25c386aa4d91",
   "metadata": {},
   "outputs": [],
   "source": [
    "plt.imshow(inputs[0].permute(1, 2, 0).to(\"cpu\").numpy()*[0.229, 0.224, 0.225]+[0.485, 0.456, 0.406])"
   ]
  },
  {
   "cell_type": "code",
   "execution_count": null,
   "id": "82530610-6377-48b9-ba9a-5e446fca2c98",
   "metadata": {},
   "outputs": [],
   "source": []
  },
  {
   "cell_type": "code",
   "execution_count": null,
   "id": "51875910-ce14-49c2-8348-009efdc31824",
   "metadata": {},
   "outputs": [],
   "source": []
  },
  {
   "cell_type": "code",
   "execution_count": null,
   "id": "4b40ca4e-b8a9-4619-b92d-10c62bd1d3da",
   "metadata": {},
   "outputs": [],
   "source": []
  }
 ],
 "metadata": {
  "kernelspec": {
   "display_name": "Python 3 (ipykernel)",
   "language": "python",
   "name": "python3"
  },
  "language_info": {
   "codemirror_mode": {
    "name": "ipython",
    "version": 3
   },
   "file_extension": ".py",
   "mimetype": "text/x-python",
   "name": "python",
   "nbconvert_exporter": "python",
   "pygments_lexer": "ipython3",
   "version": "3.8.13"
  },
  "widgets": {
   "application/vnd.jupyter.widget-state+json": {
    "state": {},
    "version_major": 2,
    "version_minor": 0
   }
  }
 },
 "nbformat": 4,
 "nbformat_minor": 5
}
