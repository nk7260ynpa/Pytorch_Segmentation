{
 "cells": [
  {
   "cell_type": "code",
   "execution_count": null,
   "id": "d40027ac-fc84-448d-b638-53ba6c28b549",
   "metadata": {},
   "outputs": [],
   "source": [
    "import os \n",
    "import numpy as np \n",
    "import pandas as pd\n",
    "import matplotlib.pyplot as plt\n",
    "import torch\n",
    "import torch.nn as nn\n",
    "import torchvision as trv\n",
    "from PIL import Image\n",
    "import random\n",
    "import utils"
   ]
  },
  {
   "cell_type": "code",
   "execution_count": null,
   "id": "820d7e45-0458-41c7-b524-001d2083a317",
   "metadata": {},
   "outputs": [],
   "source": [
    "voc_dir = \"dataset/VOCdevkit/VOC2012/\""
   ]
  },
  {
   "cell_type": "code",
   "execution_count": null,
   "id": "da824e00-9648-4ba2-a2d7-7b8109ffbe2a",
   "metadata": {},
   "outputs": [],
   "source": [
    "dataset = utils.VOC_dataset(voc_dir)"
   ]
  },
  {
   "cell_type": "code",
   "execution_count": null,
   "id": "bde456a1-da10-43c3-8507-9b0c78359136",
   "metadata": {},
   "outputs": [],
   "source": [
    "dataset.show_images()"
   ]
  },
  {
   "cell_type": "code",
   "execution_count": null,
   "id": "9827f861-bbfd-4c77-957d-5fd526560bc4",
   "metadata": {},
   "outputs": [],
   "source": []
  }
 ],
 "metadata": {
  "kernelspec": {
   "display_name": "Python 3 (ipykernel)",
   "language": "python",
   "name": "python3"
  },
  "language_info": {
   "codemirror_mode": {
    "name": "ipython",
    "version": 3
   },
   "file_extension": ".py",
   "mimetype": "text/x-python",
   "name": "python",
   "nbconvert_exporter": "python",
   "pygments_lexer": "ipython3",
   "version": "3.8.13"
  },
  "widgets": {
   "application/vnd.jupyter.widget-state+json": {
    "state": {},
    "version_major": 2,
    "version_minor": 0
   }
  }
 },
 "nbformat": 4,
 "nbformat_minor": 5
}
