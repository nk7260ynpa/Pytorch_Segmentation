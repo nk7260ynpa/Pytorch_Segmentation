{
 "cells": [
  {
   "cell_type": "code",
   "execution_count": null,
   "id": "9b0718cc-8e3c-4b90-a67d-2dd28f54b415",
   "metadata": {},
   "outputs": [],
   "source": [
    "import os \n",
    "import datetime\n",
    "import numpy as np \n",
    "import pandas as pd\n",
    "import matplotlib.pyplot as plt\n",
    "import torch\n",
    "import torch.nn as nn\n",
    "import torch.nn.functional as F\n",
    "import torchvision as trv\n",
    "from PIL import Image\n",
    "import random\n",
    "import utils\n",
    "import logging\n",
    "import utils"
   ]
  },
  {
   "cell_type": "code",
   "execution_count": null,
   "id": "85705fcf-cfea-451b-baad-f4396bf1d789",
   "metadata": {},
   "outputs": [],
   "source": [
    "VOC_DIR = \"dataset/VOCdevkit/VOC2012/\"\n",
    "NUM_CLASSES = 21\n",
    "WEIGHT_PATH = \"weights/08062258.pth\""
   ]
  },
  {
   "cell_type": "code",
   "execution_count": null,
   "id": "ceb80452-3b23-44f9-ae39-b46f5a1cb2ce",
   "metadata": {},
   "outputs": [],
   "source": [
    "Valid_dataset = utils.VOC_dataset(VOC_DIR, train=False)\n",
    "model = utils.ResNet18_FCN(NUM_CLASSES)\n",
    "model.load_state_dict(torch.load(WEIGHT_PATH))\n",
    "model.eval();"
   ]
  },
  {
   "cell_type": "code",
   "execution_count": null,
   "id": "3a81cbec-6244-435e-8d69-a756d0b0e4eb",
   "metadata": {},
   "outputs": [],
   "source": [
    "image, label = next(iter(Valid_dataset))\n",
    "\n",
    "inputs = torch.unsqueeze(image, 0)\n",
    "output = model(inputs).argmax(dim=1)[0]\n",
    "mask = utils.label2image(output).astype(np.uint8)\n",
    "\n",
    "std  = torch.Tensor([0.229, 0.224, 0.225]).unsqueeze(1).unsqueeze(2)\n",
    "mean = torch.Tensor([0.485, 0.456, 0.406]).unsqueeze(1).unsqueeze(2)\n",
    "image = (image * std + mean) * 255.\n",
    "image_display = torch.clip(image.permute(1, 2, 0), min=0.0, max=255.).numpy().astype(np.uint8)\n",
    "\n",
    "superimposed_img = mask.astype(np.float32) * 0.2 + image_display.astype(np.float32) * 0.8\n",
    "superimposed_img = np.uint8(np.clip(superimposed_img, 0, 255))"
   ]
  },
  {
   "cell_type": "code",
   "execution_count": null,
   "id": "13608663-5023-4990-b780-7cf3b2b49aa6",
   "metadata": {},
   "outputs": [],
   "source": [
    "fig, ax = plt.subplots(1, 3, dpi=200, facecolor=(1, 1, 1))\n",
    "\n",
    "axx = plt.subplot(1, 3, 1)\n",
    "plt.imshow(image_display)\n",
    "plt.axis(\"off\")\n",
    "\n",
    "axx = plt.subplot(1, 3, 2)\n",
    "plt.imshow(mask)\n",
    "plt.axis(\"off\")\n",
    "\n",
    "axx = plt.subplot(1, 3, 3)\n",
    "plt.imshow(superimposed_img)\n",
    "plt.axis(\"off\")\n",
    "\n",
    "plt.tight_layout()\n",
    "fig.subplots_adjust(top=1.5)\n",
    "fig.suptitle(\"Sample\", fontsize=15)\n",
    "\n",
    "plt.show()"
   ]
  },
  {
   "cell_type": "code",
   "execution_count": null,
   "id": "147bb861-c0c6-4a3e-a3b0-d0a3d4259823",
   "metadata": {},
   "outputs": [],
   "source": []
  }
 ],
 "metadata": {
  "kernelspec": {
   "display_name": "Python 3 (ipykernel)",
   "language": "python",
   "name": "python3"
  },
  "language_info": {
   "codemirror_mode": {
    "name": "ipython",
    "version": 3
   },
   "file_extension": ".py",
   "mimetype": "text/x-python",
   "name": "python",
   "nbconvert_exporter": "python",
   "pygments_lexer": "ipython3",
   "version": "3.8.13"
  },
  "widgets": {
   "application/vnd.jupyter.widget-state+json": {
    "state": {},
    "version_major": 2,
    "version_minor": 0
   }
  }
 },
 "nbformat": 4,
 "nbformat_minor": 5
}
